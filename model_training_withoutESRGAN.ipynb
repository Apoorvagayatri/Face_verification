{
 "cells": [
  {
   "cell_type": "code",
   "execution_count": 1,
   "id": "NAlojjsmzUPt",
   "metadata": {
    "id": "NAlojjsmzUPt"
   },
   "outputs": [],
   "source": [
    "import cv2\n",
    "import os\n",
    "import zipfile\n",
    "import torch\n",
    "import torchvision.transforms as transforms\n",
    "from PIL import Image\n",
    "import numpy as np\n"
   ]
  },
  {
   "cell_type": "code",
   "execution_count": 2,
   "id": "24a2091e",
   "metadata": {},
   "outputs": [
    {
     "name": "stdout",
     "output_type": "stream",
     "text": [
      "Requirement already satisfied: scikit-learn in /Users/apoorvagayatrik/miniforge3/lib/python3.10/site-packages (1.5.0)\n",
      "Requirement already satisfied: numpy>=1.19.5 in /Users/apoorvagayatrik/miniforge3/lib/python3.10/site-packages (from scikit-learn) (1.26.4)\n",
      "Requirement already satisfied: scipy>=1.6.0 in /Users/apoorvagayatrik/miniforge3/lib/python3.10/site-packages (from scikit-learn) (1.14.0)\n",
      "Requirement already satisfied: joblib>=1.2.0 in /Users/apoorvagayatrik/miniforge3/lib/python3.10/site-packages (from scikit-learn) (1.4.2)\n",
      "Requirement already satisfied: threadpoolctl>=3.1.0 in /Users/apoorvagayatrik/miniforge3/lib/python3.10/site-packages (from scikit-learn) (3.5.0)\n"
     ]
    }
   ],
   "source": [
    "!pip3 install scikit-learn"
   ]
  },
  {
   "cell_type": "code",
   "execution_count": 3,
   "id": "8254a8cc",
   "metadata": {
    "id": "8254a8cc"
   },
   "outputs": [],
   "source": [
    "import os\n",
    "import cv2\n",
    "import numpy as np\n",
    "from sklearn.decomposition import PCA\n",
    "from sklearn.neighbors import KNeighborsClassifier\n",
    "from sklearn.metrics import accuracy_score,precision_score\n",
    "\n",
    "\n",
    "train_folder='/Users/apoorvagayatrik/PerspectAIProj/processed_images_noesrgan/train_ds'\n",
    "test_folder='/Users/apoorvagayatrik/PerspectAIProj/processed_images_noesrgan/test_ds'\n",
    "val_folder='/Users/apoorvagayatrik/PerspectAIProj/processed_images_noesrgan/val_ds'"
   ]
  },
  {
   "cell_type": "code",
   "execution_count": 4,
   "id": "739e8fd4",
   "metadata": {
    "id": "739e8fd4"
   },
   "outputs": [],
   "source": [
    "import os\n",
    "import cv2\n",
    "import numpy as np\n",
    "\n",
    "def load_images_from_folder(folder):\n",
    "    final_labels = []\n",
    "    final_images = []\n",
    "\n",
    "    for person_folder in os.listdir(folder):\n",
    "        person_path = os.path.join(folder, person_folder)\n",
    "        if not os.path.isdir(person_path):\n",
    "            continue\n",
    "\n",
    "        images = []\n",
    "\n",
    "        # Load images from the person's folder\n",
    "        for filename in os.listdir(person_path):\n",
    "            img_path = os.path.join(person_path, filename)\n",
    "            if filename.endswith('.jpg') or filename.endswith('.png'):\n",
    "                img = cv2.imread(img_path, cv2.IMREAD_GRAYSCALE)\n",
    "                if img is not None:\n",
    "                    images.append(img)\n",
    "\n",
    "        # Create image pairs\n",
    "        for i in range(len(images)):\n",
    "            for j in range(i + 1, len(images)):\n",
    "                # Append image pair and corresponding label\n",
    "                final_images.append((images[i], images[j]))\n",
    "                final_labels.append(person_folder)  # Use folder name as label\n",
    "\n",
    "    return np.array(final_images), np.array(final_labels)\n"
   ]
  },
  {
   "cell_type": "code",
   "execution_count": 5,
   "id": "e32afcf7",
   "metadata": {
    "colab": {
     "base_uri": "https://localhost:8080/"
    },
    "id": "e32afcf7",
    "outputId": "2853ed3c-cdda-4d25-c440-d07198caf0af"
   },
   "outputs": [
    {
     "name": "stdout",
     "output_type": "stream",
     "text": [
      "Loaded 54917 training images and 100411 validation images.\n"
     ]
    }
   ],
   "source": [
    "# Load images and labels from respective folders\n",
    "\n",
    "train_images, train_labels = load_images_from_folder(train_folder)\n",
    "val_images, val_labels = load_images_from_folder(val_folder)\n",
    "test_images, test_labels = load_images_from_folder(test_folder)\n",
    "\n",
    "print(f\"Loaded {len(train_images)} training images and {len(val_images)} validation images.\")\n"
   ]
  },
  {
   "cell_type": "code",
   "execution_count": 6,
   "id": "48cc3736",
   "metadata": {
    "colab": {
     "base_uri": "https://localhost:8080/"
    },
    "id": "48cc3736",
    "outputId": "b7fe7219-6297-4221-dbcd-d16ff70f4fe0",
    "scrolled": true
   },
   "outputs": [
    {
     "name": "stderr",
     "output_type": "stream",
     "text": [
      "100%|██████████████████████████████████████| 1717/1717 [00:05<00:00, 338.58it/s]\n",
      "100%|██████████████████████████████████████| 1717/1717 [00:03<00:00, 512.75it/s]\n",
      "100%|██████████████████████████████████████| 3138/3138 [00:07<00:00, 430.65it/s]\n",
      "100%|██████████████████████████████████████| 1784/1784 [00:04<00:00, 399.64it/s]\n"
     ]
    },
    {
     "name": "stdout",
     "output_type": "stream",
     "text": [
      "Saved 2DPCA model and transformed data.\n",
      "train_images_2dpca shape: (54917, 2500)\n",
      "val_images_2dpca shape: (100411, 2500)\n",
      "test_images_2dpca shape: (57067, 2500)\n",
      "train_labels shape: (54917,)\n"
     ]
    }
   ],
   "source": [
    "import os\n",
    "import cv2\n",
    "import numpy as np\n",
    "from tqdm import tqdm\n",
    "import pickle\n",
    "\n",
    "class TwoDPCA:\n",
    "    def __init__(self, num_components, batch_size=32):\n",
    "        self.num_components = num_components\n",
    "        self.eigenvectors_rows = None\n",
    "        self.eigenvectors_cols = None\n",
    "        self.batch_size = batch_size\n",
    "\n",
    "    def fit(self, X):\n",
    "        mean_image = np.mean(X, axis=0)\n",
    "        rows, cols = X[0].shape\n",
    "\n",
    "        covariance_matrix_rows = np.zeros((rows, rows))\n",
    "        covariance_matrix_cols = np.zeros((cols, cols))\n",
    "\n",
    "        for start in tqdm(range(0, len(X), self.batch_size)):\n",
    "            end = min(start + self.batch_size, len(X))\n",
    "            batch_images = X[start:end]\n",
    "\n",
    "            for img in batch_images:\n",
    "                diff_rows = img - mean_image\n",
    "                diff_cols = (img - mean_image).T\n",
    "                covariance_matrix_rows += np.dot(diff_rows.T, diff_rows)\n",
    "                covariance_matrix_cols += np.dot(diff_cols.T, diff_cols)\n",
    "\n",
    "        eigenvalues_rows, eigenvectors_rows = np.linalg.eigh(covariance_matrix_rows)\n",
    "        eigenvalues_cols, eigenvectors_cols = np.linalg.eigh(covariance_matrix_cols)\n",
    "\n",
    "        idx_rows = np.argsort(-eigenvalues_rows)\n",
    "        idx_cols = np.argsort(-eigenvalues_cols)\n",
    "\n",
    "        self.eigenvectors_rows = eigenvectors_rows[:, idx_rows[:self.num_components]]\n",
    "        self.eigenvectors_cols = eigenvectors_cols[:, idx_cols[:self.num_components]]\n",
    "\n",
    "    def transform(self, X):\n",
    "        projected_images = []\n",
    "\n",
    "        for start in tqdm(range(0, len(X), self.batch_size)):\n",
    "            end = min(start + self.batch_size, len(X))\n",
    "            batch_images = X[start:end]\n",
    "\n",
    "            for img in batch_images:\n",
    "                projected_img = np.dot(np.dot(self.eigenvectors_rows.T, img), self.eigenvectors_cols)\n",
    "                projected_images.append(projected_img.flatten())\n",
    "\n",
    "        return np.array(projected_images)\n",
    "\n",
    "\n",
    "# Example usage with batch processing\n",
    "num_components = 50\n",
    "batch_size = 32\n",
    "\n",
    "# Define your train_images, val_images, and test_images here\n",
    "train_images_flat = np.array([pair[0] for pair in train_images])\n",
    "val_images_flat = np.array([pair[0] for pair in val_images])\n",
    "test_images_flat = np.array([pair[0] for pair in test_images])\n",
    "\n",
    "# Instantiate and fit the 2DPCA model\n",
    "two_d_pca = TwoDPCA(num_components, batch_size=batch_size)\n",
    "two_d_pca.fit(train_images_flat)\n",
    "\n",
    "# Transform images using the trained 2DPCA model\n",
    "train_images_2dpca = two_d_pca.transform(train_images_flat)\n",
    "val_images_2dpca = two_d_pca.transform(val_images_flat)\n",
    "test_images_2dpca = two_d_pca.transform(test_images_flat)\n",
    "\n",
    "# Save the 2DPCA model and transformed data\n",
    "with open('two_d_pca_model.pkl', 'wb') as f:\n",
    "    pickle.dump(two_d_pca, f)\n",
    "\n",
    "with open('transformed_data.pkl', 'wb') as f:\n",
    "    pickle.dump((train_images_2dpca, val_images_2dpca, test_images_2dpca), f)\n",
    "\n",
    "print(\"Saved 2DPCA model and transformed data.\")\n",
    "\n",
    "# Print shapes of transformed data\n",
    "print(f\"train_images_2dpca shape: {train_images_2dpca.shape}\")\n",
    "print(f\"val_images_2dpca shape: {val_images_2dpca.shape}\")\n",
    "print(f\"test_images_2dpca shape: {test_images_2dpca.shape}\")\n",
    "\n",
    "print(f\"train_labels shape: {train_labels.shape}\")\n"
   ]
  },
  {
   "cell_type": "code",
   "execution_count": 7,
   "id": "76bc88b3",
   "metadata": {
    "id": "76bc88b3"
   },
   "outputs": [],
   "source": [
    "from sklearn.ensemble import RandomForestClassifier\n",
    "\n"
   ]
  },
  {
   "cell_type": "code",
   "execution_count": 8,
   "id": "a1b3f790",
   "metadata": {
    "colab": {
     "base_uri": "https://localhost:8080/",
     "height": 401
    },
    "id": "a1b3f790",
    "outputId": "4ca78df9-dae4-4484-91e5-2758b4aed6b6"
   },
   "outputs": [
    {
     "name": "stdout",
     "output_type": "stream",
     "text": [
      "Validation Accuracy: 0.0\n",
      "Validation Precision: 0.1335149863760218\n",
      "Test Accuracy: 0.0\n",
      "Test Precision: 0.2737642585551331\n"
     ]
    }
   ],
   "source": [
    "# Instantiate and train KNN classifier\n",
    "knn = KNeighborsClassifier(n_neighbors=3)\n",
    "knn.fit(train_images_2dpca, train_labels)\n",
    "\n",
    "\n",
    "\n",
    "# Predict on validation set\n",
    "val_predictions = knn.predict(val_images_2dpca)\n",
    "val_accuracy = accuracy_score(val_labels, val_predictions)\n",
    "val_precision = precision_score(val_labels, val_predictions, average='macro',zero_division=1)\n",
    "\n",
    "print(f\"Validation Accuracy: {val_accuracy}\")\n",
    "print(f\"Validation Precision: {val_precision}\")\n",
    "\n",
    "\n",
    "\n",
    "test_predictions = knn.predict(test_images_2dpca)\n",
    "\n",
    "test_accuracy = accuracy_score(test_labels, test_predictions)\n",
    "test_precision = precision_score(test_labels, test_predictions, average='macro',zero_division=1)\n",
    "\n",
    "print(f\"Test Accuracy: {test_accuracy}\")\n",
    "print(f\"Test Precision: {test_precision}\")\n",
    "\n",
    "\n",
    "\n",
    "\n",
    "\n"
   ]
  },
  {
   "cell_type": "code",
   "execution_count": null,
   "id": "LKtFAYeg7jt7",
   "metadata": {
    "colab": {
     "base_uri": "https://localhost:8080/"
    },
    "id": "LKtFAYeg7jt7",
    "outputId": "0d3f2504-f4c7-4f21-c965-90a839109e83"
   },
   "outputs": [
    {
     "name": "stderr",
     "output_type": "stream",
     "text": [
      "[Parallel(n_jobs=-1)]: Using backend ThreadingBackend with 2 concurrent workers.\n",
      "[Parallel(n_jobs=-1)]: Done  46 tasks      | elapsed: 28.6min\n"
     ]
    }
   ],
   "source": [
    "rf_classifier = RandomForestClassifier(n_estimators=100,verbose=1,n_jobs=-1)\n",
    "n_estimators = rf_classifier.n_estimators\n",
    "\n",
    "rf_classifier.fit(train_images_2dpca, train_labels)\n",
    "\n",
    "\n",
    "val_predictions = rf_classifier.predict(val_images_2dpca)\n",
    "accuracy = accuracy_score(val_labels, val_predictions)\n",
    "\n",
    "print(f\"Validation Accuracy: {val_accuracy}\")\n",
    "print(f\"Validation Precision: {val_precision}\")\n",
    "\n",
    "test_images_2dpca = two_d_pca.transform(test_images)\n",
    "test_predictions = rf_classifier.predict(test_images_2dpca)\n",
    "test_accuracy = accuracy_score(test_labels, test_predictions)\n",
    "test_precision = precision_score(test_labels, test_predictions, average='macro',zero_division=1)\n",
    "\n",
    "print(f\"Test Accuracy: {test_accuracy}\")\n",
    "print(f\"Test Precision: {test_precision}\")\n",
    "\n"
   ]
  },
  {
   "cell_type": "code",
   "execution_count": null,
   "id": "YPoMWE-f4Wi9",
   "metadata": {
    "id": "YPoMWE-f4Wi9"
   },
   "outputs": [],
   "source": [
    "from sklearn.svm import SVC\n",
    "from sklearn.metrics import accuracy_score, precision_score\n",
    "\n",
    "# Instantiate SVM classifier\n",
    "svm = SVC(kernel='linear', C=1.0, random_state=42,n_jobs=-1,verbose=1)  # You can adjust kernel and C parameter as needed\n",
    "\n",
    "# Train SVM classifier\n",
    "svm.fit(train_images_2dpca, train_labels)\n",
    "\n",
    "# Predict on validation set\n",
    "val_predictions = svm.predict(val_images_2dpca)\n",
    "\n",
    "# Evaluate on validation set\n",
    "val_accuracy = accuracy_score(val_labels, val_predictions)\n",
    "val_precision = precision_score(val_labels, val_predictions, average='macro', zero_division=1)\n",
    "\n",
    "print(f\"Validation Accuracy (SVM): {val_accuracy}\")\n",
    "print(f\"Validation Precision (SVM): {val_precision}\")\n",
    "\n",
    "# Predict on test set\n",
    "test_predictions = svm.predict(test_images_2dpca)\n",
    "\n",
    "# Evaluate on test set\n",
    "test_accuracy = accuracy_score(test_labels, test_predictions)\n",
    "test_precision = precision_score(test_labels, test_predictions, average='macro', zero_division=1)\n",
    "\n",
    "print(f\"Test Accuracy (SVM): {test_accuracy}\")\n",
    "print(f\"Test Precision (SVM): {test_precision}\")\n"
   ]
  }
 ],
 "metadata": {
  "colab": {
   "provenance": []
  },
  "kernelspec": {
   "display_name": "Python 3 (ipykernel)",
   "language": "python",
   "name": "python3"
  },
  "language_info": {
   "codemirror_mode": {
    "name": "ipython",
    "version": 3
   },
   "file_extension": ".py",
   "mimetype": "text/x-python",
   "name": "python",
   "nbconvert_exporter": "python",
   "pygments_lexer": "ipython3",
   "version": "3.10.13"
  }
 },
 "nbformat": 4,
 "nbformat_minor": 5
}
