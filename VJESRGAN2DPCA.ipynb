{
 "cells": [
  {
   "cell_type": "code",
   "execution_count": 1,
   "metadata": {
    "colab": {
     "base_uri": "https://localhost:8080/"
    },
    "id": "fJzyrQJ6ye6-",
    "outputId": "675300f7-7979-424a-8a59-af18c40deaa7"
   },
   "outputs": [
    {
     "name": "stdout",
     "output_type": "stream",
     "text": [
      "Mounted at /content/drive\n"
     ]
    }
   ],
   "source": [
    "from google.colab import drive\n",
    "drive.mount('/content/drive')\n"
   ]
  },
  {
   "cell_type": "code",
   "execution_count": 2,
   "metadata": {
    "id": "aKizwQKB0s65"
   },
   "outputs": [],
   "source": [
    "import cv2\n",
    "import os\n",
    "import zipfile\n",
    "import torch\n",
    "import torchvision.transforms as transforms\n",
    "from PIL import Image\n",
    "import numpy as np\n",
    "\n",
    "\n"
   ]
  },
  {
   "cell_type": "code",
   "execution_count": 3,
   "metadata": {
    "id": "2aOFbckI1jgW"
   },
   "outputs": [],
   "source": [
    "zip_file_path = '/content/drive/MyDrive/PerspectAI/dataset_a.zip'"
   ]
  },
  {
   "cell_type": "code",
   "execution_count": 4,
   "metadata": {
    "id": "tuUXyxJ92RT9"
   },
   "outputs": [],
   "source": [
    "extract_dir='/content/dataset'"
   ]
  },
  {
   "cell_type": "code",
   "execution_count": 5,
   "metadata": {
    "id": "zQA8_U8v2iBW"
   },
   "outputs": [],
   "source": [
    "with zipfile.ZipFile(zip_file_path,'r') as zip_ref:\n",
    "    zip_ref.extractall(extract_dir)"
   ]
  },
  {
   "cell_type": "code",
   "execution_count": 6,
   "metadata": {
    "id": "C1pKA_be7Uc2"
   },
   "outputs": [],
   "source": [
    "import os\n",
    "import glob\n",
    "import cv2\n",
    "import numpy as np\n",
    "import torch\n",
    "import RRDBNet_arch as arch\n",
    "from google.colab.patches import cv2_imshow\n",
    "\n",
    "# Define the apply_esrgan function\n",
    "def apply_esrgan(img, model, device):\n",
    "    img = img * 1.0 / 255\n",
    "    img = torch.from_numpy(np.transpose(img[:, :, [2, 1, 0]], (2, 0, 1))).float()\n",
    "    img_LR = img.unsqueeze(0)\n",
    "    img_LR = img_LR.to(device)\n",
    "\n",
    "    with torch.no_grad():\n",
    "        output = model(img_LR).data.squeeze().float().cpu().clamp_(0, 1).numpy()\n",
    "    output = np.transpose(output[[2, 1, 0], :, :], (1, 2, 0))\n",
    "    output = (output * 255.0).round().astype(np.uint8)\n",
    "\n",
    "    return output"
   ]
  },
  {
   "cell_type": "code",
   "execution_count": 7,
   "metadata": {
    "id": "YDy73TbyM9sD"
   },
   "outputs": [],
   "source": [
    "# Load the ESRGAN model\n",
    "model_path = '/content/drive/MyDrive/ESRGANmodel/RRDB_ESRGAN_x4.pth'\n",
    "device = torch.device('cuda')  # if you want to run on CPU, change 'cuda' -> 'cpu'\n",
    "\n",
    "model = arch.RRDBNet(3, 3, 64, 23, gc=32)\n",
    "model.load_state_dict(torch.load(model_path), strict=True)\n",
    "model.eval()\n",
    "model = model.to(device)\n",
    "\n"
   ]
  },
  {
   "cell_type": "code",
   "execution_count": 8,
   "metadata": {
    "id": "zh1EAMHD7Z-G"
   },
   "outputs": [],
   "source": [
    "def detect_faces(image):\n",
    "\n",
    "    face_cascade = cv2.CascadeClassifier(cv2.data.haarcascades + 'haarcascade_frontalface_default.xml')\n",
    "    gray_image = cv2.cvtColor(image, cv2.COLOR_BGR2GRAY)\n",
    "\n",
    "    faces = face_cascade.detectMultiScale(gray_image, scaleFactor=1.1, minNeighbors=5, minSize=(30, 30))\n",
    "\n",
    "    return faces"
   ]
  },
  {
   "cell_type": "code",
   "execution_count": 9,
   "metadata": {
    "id": "-zQVECFV7zpr"
   },
   "outputs": [],
   "source": [
    "datasets=['train_ds','val_ds','test_ds']\n",
    "\n",
    "train_preprocessed=[]\n",
    "val_preprocessed=[]\n",
    "test_preprocessed=[]\n"
   ]
  },
  {
   "cell_type": "code",
   "execution_count": 18,
   "metadata": {
    "colab": {
     "base_uri": "https://localhost:8080/"
    },
    "id": "FQhgGqjF6atq",
    "outputId": "842b3786-dd12-44e0-914b-fb528b4bd736"
   },
   "outputs": [
    {
     "name": "stdout",
     "output_type": "stream",
     "text": [
      "Requirement already satisfied: tqdm in /usr/local/lib/python3.10/dist-packages (4.66.4)\n"
     ]
    }
   ],
   "source": [
    "!pip3 install tqdm"
   ]
  },
  {
   "cell_type": "code",
   "execution_count": null,
   "metadata": {
    "colab": {
     "base_uri": "https://localhost:8080/"
    },
    "id": "48o_7wxV8SAO",
    "outputId": "77f42fa8-201b-4f3c-8a62-b5ccb235244d"
   },
   "outputs": [
    {
     "name": "stderr",
     "output_type": "stream",
     "text": [
      "\r",
      "Processing train_ds:   0%|          | 0/1755 [00:00<?, ?folder/s]"
     ]
    }
   ],
   "source": [
    "import os\n",
    "import cv2\n",
    "import numpy as np\n",
    "from tqdm import tqdm\n",
    "\n",
    "# Assuming detect_faces and apply_esrgan functions are already defined\n",
    "\n",
    "datasets = ['train_ds', 'val_ds', 'test_ds']\n",
    "\n",
    "from google.colab.patches import cv2_imshow\n",
    "\n",
    "# Initialize lists for storing preprocessed images\n",
    "train_preprocessed = []\n",
    "val_preprocessed = []\n",
    "test_preprocessed = []\n",
    "\n",
    "train_labels = []\n",
    "val_labels = []\n",
    "test_labels = []\n",
    "\n",
    "def load_images_and_labels(dataset):\n",
    "    images = []\n",
    "    labels = []\n",
    "    dataset_path = os.path.join(extract_dir, dataset)\n",
    "    people_folders = os.listdir(dataset_path)\n",
    "\n",
    "    progress_bar = tqdm(people_folders, desc=f'Processing {dataset}', unit='folder')\n",
    "\n",
    "\n",
    "    for person_folder in people_folders:\n",
    "         person_path = os.path.join(dataset_path, person_folder)\n",
    "         image_files = [os.path.join(person_path, f) for f in os.listdir(person_path) if f.endswith('.jpg') or f.endswith('.png')]\n",
    "         label = person_folder\n",
    "         for image_path in image_files:\n",
    "               image = cv2.imread(image_path, cv2.IMREAD_COLOR)\n",
    "               faces = detect_faces(image)\n",
    "\n",
    "               for (x, y, w, h) in faces:\n",
    "                # Extract the face ROI\n",
    "                  face_roi = image[y:y+h, x:x+w]\n",
    "                # Apply ESRGAN to the face ROI\n",
    "                  enhanced_face = apply_esrgan(face_roi, model, device)\n",
    "\n",
    "                # Convert to grayscale\n",
    "                  gray_face = cv2.cvtColor(enhanced_face, cv2.COLOR_BGR2GRAY)\n",
    "\n",
    "                # Resize the face to the target size\n",
    "                  target_size = (64, 64)\n",
    "                  resized_face = cv2.resize(gray_face, target_size)\n",
    "\n",
    "                  images.append(resized_face)\n",
    "                  labels.append(label)\n",
    "\n",
    "\n",
    "\n",
    "    return images,labels\n",
    "\n",
    "train_preprocessed, train_labels = load_images_and_labels('train_ds')\n",
    "val_preprocessed, val_labels = load_images_and_labels('val_ds')\n",
    "test_preprocessed, test_labels = load_images_and_labels('test_ds')\n",
    "\n",
    "print(\"Image loading and enhancement completed!\")\n",
    "\n",
    "\n"
   ]
  },
  {
   "cell_type": "code",
   "execution_count": null,
   "metadata": {
    "colab": {
     "base_uri": "https://localhost:8080/"
    },
    "id": "DOimtxtq9-NE",
    "outputId": "2a15293e-93ee-45a6-d2fd-18fa86ccf0ab"
   },
   "outputs": [
    {
     "name": "stdout",
     "output_type": "stream",
     "text": [
      "CUDA is available with {cuda_device_count} CUDA device(s)!\n"
     ]
    }
   ],
   "source": [
    "import torch\n",
    "\n",
    "# Check if CUDA (GPU acceleration) is available\n",
    "cuda_available = torch.cuda.is_available()\n",
    "\n",
    "if cuda_available:\n",
    "    # Get the CUDA device count\n",
    "    cuda_device_count = torch.cuda.device_count()\n",
    "    print('CUDA is available with {cuda_device_count} CUDA device(s)!')\n",
    "else:\n",
    "    print('CUDA is not available. Running on CPU.')\n"
   ]
  },
  {
   "cell_type": "code",
   "execution_count": null,
   "metadata": {
    "id": "NGDoD3AnGncY"
   },
   "outputs": [],
   "source": [
    "from google.colab.patches import cv2_imshow\n"
   ]
  },
  {
   "cell_type": "code",
   "execution_count": null,
   "metadata": {
    "colab": {
     "base_uri": "https://localhost:8080/",
     "height": 360
    },
    "id": "we82aCcePfzc",
    "outputId": "88678efd-67d1-4733-bfa0-b764cb4648b7"
   },
   "outputs": [
    {
     "ename": "NameError",
     "evalue": "name 'np' is not defined",
     "output_type": "error",
     "traceback": [
      "\u001b[0;31m---------------------------------------------------------------------------\u001b[0m",
      "\u001b[0;31mNameError\u001b[0m                                 Traceback (most recent call last)",
      "\u001b[0;32m<ipython-input-16-b3f03bfd5d7b>\u001b[0m in \u001b[0;36m<cell line: 14>\u001b[0;34m()\u001b[0m\n\u001b[1;32m     12\u001b[0m \u001b[0;34m\u001b[0m\u001b[0m\n\u001b[1;32m     13\u001b[0m \u001b[0;34m\u001b[0m\u001b[0m\n\u001b[0;32m---> 14\u001b[0;31m \u001b[0mtrain_cov_matrix\u001b[0m \u001b[0;34m=\u001b[0m \u001b[0mcompute_covmatrix\u001b[0m\u001b[0;34m(\u001b[0m\u001b[0mtrain_preprocessed\u001b[0m\u001b[0;34m)\u001b[0m\u001b[0;34m\u001b[0m\u001b[0;34m\u001b[0m\u001b[0m\n\u001b[0m\u001b[1;32m     15\u001b[0m \u001b[0mval_cov_matrix\u001b[0m \u001b[0;34m=\u001b[0m \u001b[0mcompute_covmatrix\u001b[0m\u001b[0;34m(\u001b[0m\u001b[0mval_preprocessed\u001b[0m\u001b[0;34m)\u001b[0m\u001b[0;34m\u001b[0m\u001b[0;34m\u001b[0m\u001b[0m\n\u001b[1;32m     16\u001b[0m \u001b[0mtest_cov_matrix\u001b[0m \u001b[0;34m=\u001b[0m \u001b[0mcompute_covmatrix\u001b[0m\u001b[0;34m(\u001b[0m\u001b[0mtest_preprocessed\u001b[0m\u001b[0;34m)\u001b[0m\u001b[0;34m\u001b[0m\u001b[0;34m\u001b[0m\u001b[0m\n",
      "\u001b[0;32m<ipython-input-16-b3f03bfd5d7b>\u001b[0m in \u001b[0;36mcompute_covmatrix\u001b[0;34m(images)\u001b[0m\n\u001b[1;32m      1\u001b[0m \u001b[0;32mdef\u001b[0m \u001b[0mcompute_covmatrix\u001b[0m\u001b[0;34m(\u001b[0m\u001b[0mimages\u001b[0m\u001b[0;34m)\u001b[0m\u001b[0;34m:\u001b[0m\u001b[0;34m\u001b[0m\u001b[0;34m\u001b[0m\u001b[0m\n\u001b[1;32m      2\u001b[0m   \u001b[0mnum_images\u001b[0m\u001b[0;34m=\u001b[0m\u001b[0mlen\u001b[0m\u001b[0;34m(\u001b[0m\u001b[0mimages\u001b[0m\u001b[0;34m)\u001b[0m\u001b[0;34m\u001b[0m\u001b[0;34m\u001b[0m\u001b[0m\n\u001b[0;32m----> 3\u001b[0;31m   \u001b[0mmean_images\u001b[0m\u001b[0;34m=\u001b[0m\u001b[0mnp\u001b[0m\u001b[0;34m.\u001b[0m\u001b[0mmean\u001b[0m\u001b[0;34m(\u001b[0m\u001b[0mimages\u001b[0m\u001b[0;34m,\u001b[0m\u001b[0maxis\u001b[0m\u001b[0;34m=\u001b[0m\u001b[0;36m0\u001b[0m\u001b[0;34m)\u001b[0m\u001b[0;34m\u001b[0m\u001b[0;34m\u001b[0m\u001b[0m\n\u001b[0m\u001b[1;32m      4\u001b[0m   \u001b[0mcov_matrix\u001b[0m\u001b[0;34m=\u001b[0m\u001b[0mnp\u001b[0m\u001b[0;34m.\u001b[0m\u001b[0mzeros\u001b[0m\u001b[0;34m(\u001b[0m\u001b[0;34m(\u001b[0m\u001b[0mmean_image\u001b[0m\u001b[0;34m.\u001b[0m\u001b[0mshape\u001b[0m\u001b[0;34m[\u001b[0m\u001b[0;36m0\u001b[0m\u001b[0;34m]\u001b[0m\u001b[0;34m,\u001b[0m\u001b[0mmean_image\u001b[0m\u001b[0;34m.\u001b[0m\u001b[0mshape\u001b[0m\u001b[0;34m[\u001b[0m\u001b[0;36m0\u001b[0m\u001b[0;34m]\u001b[0m\u001b[0;34m)\u001b[0m\u001b[0;34m)\u001b[0m\u001b[0;34m\u001b[0m\u001b[0;34m\u001b[0m\u001b[0m\n\u001b[1;32m      5\u001b[0m \u001b[0;34m\u001b[0m\u001b[0m\n",
      "\u001b[0;31mNameError\u001b[0m: name 'np' is not defined"
     ]
    }
   ],
   "source": [
    "def compute_covmatrix(images):\n",
    "  num_images=len(images)\n",
    "  mean_images=np.mean(images,axis=0)\n",
    "  cov_matrix=np.zeros((mean_image.shape[0],mean_image.shape[0]))\n",
    "\n",
    "  for img in images:\n",
    "    diff=img-mean_image\n",
    "    cov_matrix+=np.dot(diff.T,diff)\n",
    "\n",
    "  cov_matrix /= num_images\n",
    "  return cov_matrix\n",
    "\n",
    "\n",
    "train_cov_matrix = compute_covmatrix(train_preprocessed)\n",
    "val_cov_matrix = compute_covmatrix(val_preprocessed)\n",
    "test_cov_matrix = compute_covmatrix(test_preprocessed)"
   ]
  },
  {
   "cell_type": "code",
   "execution_count": null,
   "metadata": {
    "colab": {
     "base_uri": "https://localhost:8080/",
     "height": 292
    },
    "id": "VUlfjnnFQnmV",
    "outputId": "3af9d804-9745-4948-bfe5-c548080db27d"
   },
   "outputs": [
    {
     "ename": "NameError",
     "evalue": "name 'train_cov_matrix' is not defined",
     "output_type": "error",
     "traceback": [
      "\u001b[0;31m---------------------------------------------------------------------------\u001b[0m",
      "\u001b[0;31mNameError\u001b[0m                                 Traceback (most recent call last)",
      "\u001b[0;32m<ipython-input-15-d9f1cda2b6bb>\u001b[0m in \u001b[0;36m<cell line: 16>\u001b[0;34m()\u001b[0m\n\u001b[1;32m     14\u001b[0m \u001b[0mnum_components\u001b[0m \u001b[0;34m=\u001b[0m \u001b[0;36m50\u001b[0m\u001b[0;34m\u001b[0m\u001b[0;34m\u001b[0m\u001b[0m\n\u001b[1;32m     15\u001b[0m \u001b[0;34m\u001b[0m\u001b[0m\n\u001b[0;32m---> 16\u001b[0;31m \u001b[0mtrain_principal_components\u001b[0m \u001b[0;34m=\u001b[0m \u001b[0mextract_principal_components\u001b[0m\u001b[0;34m(\u001b[0m\u001b[0mtrain_cov_matrix\u001b[0m\u001b[0;34m,\u001b[0m \u001b[0mnum_components\u001b[0m\u001b[0;34m)\u001b[0m\u001b[0;34m\u001b[0m\u001b[0;34m\u001b[0m\u001b[0m\n\u001b[0m\u001b[1;32m     17\u001b[0m \u001b[0mval_principal_components\u001b[0m \u001b[0;34m=\u001b[0m \u001b[0mextract_principal_components\u001b[0m\u001b[0;34m(\u001b[0m\u001b[0mval_cov_matrix\u001b[0m\u001b[0;34m,\u001b[0m \u001b[0mnum_components\u001b[0m\u001b[0;34m)\u001b[0m\u001b[0;34m\u001b[0m\u001b[0;34m\u001b[0m\u001b[0m\n\u001b[1;32m     18\u001b[0m \u001b[0mtest_principal_components\u001b[0m \u001b[0;34m=\u001b[0m \u001b[0mextract_principal_components\u001b[0m\u001b[0;34m(\u001b[0m\u001b[0mtest_cov_matrix\u001b[0m\u001b[0;34m,\u001b[0m \u001b[0mnum_components\u001b[0m\u001b[0;34m)\u001b[0m\u001b[0;34m\u001b[0m\u001b[0;34m\u001b[0m\u001b[0m\n",
      "\u001b[0;31mNameError\u001b[0m: name 'train_cov_matrix' is not defined"
     ]
    }
   ],
   "source": [
    "def extract_principal_components(cov_matrix,num_components):\n",
    "  eig_vals,eig_vecs=np.linalg.eigh(cov_matrix)\n",
    "\n",
    "  sorted_indices=np.argsort(eig_vals)[::-1]\n",
    "  sorted_eig_vals=eig_vals[sorted_indices]\n",
    "  sorted_eig_vecs=eig_vecs[:,sorted_indices]\n",
    "\n",
    "\n",
    "  principal_components=sorted_eig_vec[:,:num_components]\n",
    "\n",
    "  return principal_components\n",
    "\n",
    "\n",
    "num_components = 50\n",
    "\n",
    "train_principal_components = extract_principal_components(train_cov_matrix, num_components)\n",
    "val_principal_components = extract_principal_components(val_cov_matrix, num_components)\n",
    "test_principal_components = extract_principal_components(test_cov_matrix, num_components)"
   ]
  },
  {
   "cell_type": "code",
   "execution_count": null,
   "metadata": {
    "colab": {
     "base_uri": "https://localhost:8080/",
     "height": 224
    },
    "id": "Ykop7GzQRqiN",
    "outputId": "72fbc6f7-706f-44a2-e064-a7e05e1fff47"
   },
   "outputs": [
    {
     "ename": "NameError",
     "evalue": "name 'train_principal_components' is not defined",
     "output_type": "error",
     "traceback": [
      "\u001b[0;31m---------------------------------------------------------------------------\u001b[0m",
      "\u001b[0;31mNameError\u001b[0m                                 Traceback (most recent call last)",
      "\u001b[0;32m<ipython-input-14-76f86728b609>\u001b[0m in \u001b[0;36m<cell line: 8>\u001b[0;34m()\u001b[0m\n\u001b[1;32m      6\u001b[0m     \u001b[0;32mreturn\u001b[0m \u001b[0mprojected_images\u001b[0m\u001b[0;34m\u001b[0m\u001b[0;34m\u001b[0m\u001b[0m\n\u001b[1;32m      7\u001b[0m \u001b[0;34m\u001b[0m\u001b[0m\n\u001b[0;32m----> 8\u001b[0;31m \u001b[0mtrain_projected\u001b[0m \u001b[0;34m=\u001b[0m \u001b[0mproject_images\u001b[0m\u001b[0;34m(\u001b[0m\u001b[0mtrain_preprocessed\u001b[0m\u001b[0;34m,\u001b[0m \u001b[0mtrain_principal_components\u001b[0m\u001b[0;34m)\u001b[0m\u001b[0;34m\u001b[0m\u001b[0;34m\u001b[0m\u001b[0m\n\u001b[0m",
      "\u001b[0;31mNameError\u001b[0m: name 'train_principal_components' is not defined"
     ]
    }
   ],
   "source": [
    "def project_images(images,principal_components):\n",
    "    num_images = len(images)\n",
    "    flattened_images = images.reshape(num_images, -1)  # Flatten each image into a vector\n",
    "    projected_images = np.dot(flattened_images, principal_components)\n",
    "\n",
    "    return projected_images\n",
    "\n",
    "train_projected = project_images(train_preprocessed, train_principal_components)\n"
   ]
  },
  {
   "cell_type": "code",
   "execution_count": null,
   "metadata": {
    "colab": {
     "base_uri": "https://localhost:8080/",
     "height": 516
    },
    "id": "bgc8-FH9SB8J",
    "outputId": "5a71dfa4-1798-4ee8-8b72-1a7aa2be797a"
   },
   "outputs": [
    {
     "name": "stdout",
     "output_type": "stream",
     "text": [
      "Collecting sklearn\n",
      "  Using cached sklearn-0.0.post12.tar.gz (2.6 kB)\n",
      "  \u001b[1;31merror\u001b[0m: \u001b[1msubprocess-exited-with-error\u001b[0m\n",
      "  \n",
      "  \u001b[31m×\u001b[0m \u001b[32mpython setup.py egg_info\u001b[0m did not run successfully.\n",
      "  \u001b[31m│\u001b[0m exit code: \u001b[1;36m1\u001b[0m\n",
      "  \u001b[31m╰─>\u001b[0m See above for output.\n",
      "  \n",
      "  \u001b[1;35mnote\u001b[0m: This error originates from a subprocess, and is likely not a problem with pip.\n",
      "  Preparing metadata (setup.py) ... \u001b[?25l\u001b[?25herror\n",
      "\u001b[1;31merror\u001b[0m: \u001b[1mmetadata-generation-failed\u001b[0m\n",
      "\n",
      "\u001b[31m×\u001b[0m Encountered error while generating package metadata.\n",
      "\u001b[31m╰─>\u001b[0m See above for output.\n",
      "\n",
      "\u001b[1;35mnote\u001b[0m: This is an issue with the package mentioned above, not pip.\n",
      "\u001b[1;36mhint\u001b[0m: See above for details.\n"
     ]
    },
    {
     "ename": "NameError",
     "evalue": "name 'train_projected' is not defined",
     "output_type": "error",
     "traceback": [
      "\u001b[0;31m---------------------------------------------------------------------------\u001b[0m",
      "\u001b[0;31mNameError\u001b[0m                                 Traceback (most recent call last)",
      "\u001b[0;32m<ipython-input-13-c8659a7b8742>\u001b[0m in \u001b[0;36m<cell line: 10>\u001b[0;34m()\u001b[0m\n\u001b[1;32m      8\u001b[0m \u001b[0;34m\u001b[0m\u001b[0m\n\u001b[1;32m      9\u001b[0m \u001b[0;34m\u001b[0m\u001b[0m\n\u001b[0;32m---> 10\u001b[0;31m \u001b[0mknn_classifier\u001b[0m \u001b[0;34m=\u001b[0m \u001b[0mtrain_classifier\u001b[0m\u001b[0;34m(\u001b[0m\u001b[0mtrain_projected\u001b[0m\u001b[0;34m,\u001b[0m \u001b[0mtrain_labels\u001b[0m\u001b[0;34m)\u001b[0m\u001b[0;34m\u001b[0m\u001b[0;34m\u001b[0m\u001b[0m\n\u001b[0m",
      "\u001b[0;31mNameError\u001b[0m: name 'train_projected' is not defined"
     ]
    }
   ],
   "source": [
    "!pip3 install sklearn\n",
    "from sklearn.neighbors import KNeighborsClassifier\n",
    "\n",
    "def train_classifier(projections,labels):\n",
    "  knn=KNeighborsClassifier(n_neighbors=5)\n",
    "  knn.fit(projections,labels)\n",
    "  return knn\n",
    "\n",
    "\n",
    "knn_classifier = train_classifier(train_projected, train_labels)\n"
   ]
  },
  {
   "cell_type": "code",
   "execution_count": null,
   "metadata": {
    "colab": {
     "base_uri": "https://localhost:8080/",
     "height": 258
    },
    "id": "6Cr7_nwBTDoD",
    "outputId": "d36096c2-c86a-4827-8a85-59dbd7d4eac0"
   },
   "outputs": [
    {
     "ename": "NameError",
     "evalue": "name 'knn' is not defined",
     "output_type": "error",
     "traceback": [
      "\u001b[0;31m---------------------------------------------------------------------------\u001b[0m",
      "\u001b[0;31mNameError\u001b[0m                                 Traceback (most recent call last)",
      "\u001b[0;32m<ipython-input-7-e0aa121b3f0f>\u001b[0m in \u001b[0;36m<cell line: 20>\u001b[0;34m()\u001b[0m\n\u001b[1;32m     18\u001b[0m \u001b[0;34m\u001b[0m\u001b[0m\n\u001b[1;32m     19\u001b[0m \u001b[0;31m# Evaluate classifier on test dataset\u001b[0m\u001b[0;34m\u001b[0m\u001b[0;34m\u001b[0m\u001b[0m\n\u001b[0;32m---> 20\u001b[0;31m \u001b[0mtest_accuracy\u001b[0m\u001b[0;34m,\u001b[0m \u001b[0mtest_report\u001b[0m \u001b[0;34m=\u001b[0m \u001b[0mevaluate_classifier\u001b[0m\u001b[0;34m(\u001b[0m\u001b[0mknn\u001b[0m\u001b[0;34m,\u001b[0m \u001b[0mtest_images\u001b[0m\u001b[0;34m,\u001b[0m \u001b[0mtest_labels\u001b[0m\u001b[0;34m,\u001b[0m \u001b[0mprincipal_components\u001b[0m\u001b[0;34m)\u001b[0m\u001b[0;34m\u001b[0m\u001b[0;34m\u001b[0m\u001b[0m\n\u001b[0m\u001b[1;32m     21\u001b[0m \u001b[0;34m\u001b[0m\u001b[0m\n\u001b[1;32m     22\u001b[0m \u001b[0mprint\u001b[0m\u001b[0;34m(\u001b[0m\u001b[0;34mf\"Test Accuracy: {test_accuracy}\"\u001b[0m\u001b[0;34m)\u001b[0m\u001b[0;34m\u001b[0m\u001b[0;34m\u001b[0m\u001b[0m\n",
      "\u001b[0;31mNameError\u001b[0m: name 'knn' is not defined"
     ]
    }
   ],
   "source": [
    "from sklearn.metrics import accuracy_score, classification_report\n",
    "\n",
    "\n",
    "def evaluate_classifier(knn_classifier, test_images, test_labels):\n",
    "    # Project test images onto principal components\n",
    "\n",
    "    num_images=len(test_images)\n",
    "    flattened_images = test_images.reshape(num_images, -1)\n",
    "    projected_images = np.dot(flattened_images, knn_classifier.components_.T)\n",
    "\n",
    "\n",
    "    # Predict labels for test images\n",
    "    predictions = knn_classifier.predict(test_projections)\n",
    "\n",
    "    # Calculate accuracy\n",
    "    accuracy = accuracy_score(test_labels, predictions)\n",
    "\n",
    "    # Generate classification report (optional)\n",
    "    report = classification_report(test_labels, predictions)\n",
    "\n",
    "    return accuracy, report\n",
    "\n",
    "# Evaluate classifier on test dataset\n",
    "val_accuracy, val_report = evaluate_classifier(knn_classifier, val_preprocessed, val_labels)\n",
    "\n",
    "print(\"Validation Accuracy: {val_accuracy}\")\n",
    "print(\"Classification Report:\\n\", val_report)"
   ]
  },
  {
   "cell_type": "code",
   "execution_count": null,
   "metadata": {
    "id": "mmDZ0A19a0_R"
   },
   "outputs": [],
   "source": [
    "def recognize_faces(classifier, images, labels):\n",
    "    # Flatten and project test images\n",
    "    num_images = len(images)\n",
    "    flattened_images = images.reshape(num_images, -1)\n",
    "    projected_images = np.dot(flattened_images, classifier.components_.T)\n",
    "\n",
    "    # Predict labels for test images\n",
    "    predictions = classifier.predict(projected_images)\n",
    "\n",
    "    return predictions\n",
    "\n",
    "# Perform face recognition on test set\n",
    "test_predictions = recognize_faces(knn_classifier, test_preprocessed, test_labels)\n"
   ]
  }
 ],
 "metadata": {
  "accelerator": "GPU",
  "colab": {
   "gpuType": "T4",
   "provenance": []
  },
  "kernelspec": {
   "display_name": "Python 3 (ipykernel)",
   "language": "python",
   "name": "python3"
  },
  "language_info": {
   "codemirror_mode": {
    "name": "ipython",
    "version": 3
   },
   "file_extension": ".py",
   "mimetype": "text/x-python",
   "name": "python",
   "nbconvert_exporter": "python",
   "pygments_lexer": "ipython3",
   "version": "3.10.13"
  }
 },
 "nbformat": 4,
 "nbformat_minor": 1
}
